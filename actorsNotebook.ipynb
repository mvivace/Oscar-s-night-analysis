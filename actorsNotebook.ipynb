{
 "cells": [
  {
   "cell_type": "markdown",
   "metadata": {},
   "source": [
    "*Inizialmente in questo notebook lavoreremo con alcuni file definiti \"...actorsTweetsPre\" che contengono i tweet scaricati prima dell'inizio dell'evento e con alcuni file definiti \"...actorsTweets\" che invece contengono i tweet scaricati durante l'evento, a seguito dell'unione di questi file lavoreremo con il dataset \"complete_actors\"*"
   ]
  },
  {
   "cell_type": "markdown",
   "metadata": {},
   "source": [
    "## 1. Importiamo le librerie necessarie per la fase di pre-processing"
   ]
  },
  {
   "cell_type": "code",
   "execution_count": 1,
   "metadata": {
    "executionInfo": {
     "elapsed": 1399,
     "status": "ok",
     "timestamp": 1620395565693,
     "user": {
      "displayName": "Claudio Fadda",
      "photoUrl": "https://lh6.googleusercontent.com/-RfsyiML1ZWQ/AAAAAAAAAAI/AAAAAAAAAbk/D88UebQpVVc/s64/photo.jpg",
      "userId": "00091232004005178136"
     },
     "user_tz": -120
    },
    "id": "rW7ZUE3huoYE"
   },
   "outputs": [
    {
     "name": "stdout",
     "output_type": "stream",
     "text": [
      "Collecting emoji\n",
      "\u001b[?25l  Downloading https://files.pythonhosted.org/packages/04/f1/efe9360dbbdcf045620d8fb2fb79df36468a0a616578e907ccf0c71b52d7/emoji-1.5.0.tar.gz (185kB)\n",
      "\u001b[K     |████████████████████████████████| 194kB 4.5MB/s eta 0:00:01\n",
      "\u001b[?25hBuilding wheels for collected packages: emoji\n",
      "  Building wheel for emoji (setup.py) ... \u001b[?25ldone\n",
      "\u001b[?25h  Stored in directory: /home/monica/snap/jupyter/6/.cache/pip/wheels/5e/97/3a/e0e549eb14694b1692e49b14fe385518d78ae22fcec2d1aa6b\n",
      "Successfully built emoji\n",
      "Installing collected packages: emoji\n",
      "  Found existing installation: emoji 1.4.2\n",
      "    Uninstalling emoji-1.4.2:\n",
      "      Successfully uninstalled emoji-1.4.2\n",
      "Successfully installed emoji-1.5.0\n"
     ]
    }
   ],
   "source": [
    "import pandas as pd \n",
    "import re\n",
    "from numpy import nan\n",
    "import difflib\n",
    "from datetime import datetime, timedelta\n",
    "! pip install emoji --upgrade"
   ]
  },
  {
   "cell_type": "markdown",
   "metadata": {
    "id": "LpAAZQXtvvzW"
   },
   "source": [
    "Utilizziamo la funzione set option della libreria Pandas che ci consente di visualizzare il testo completo"
   ]
  },
  {
   "cell_type": "code",
   "execution_count": 2,
   "metadata": {
    "executionInfo": {
     "elapsed": 526,
     "status": "ok",
     "timestamp": 1620395566706,
     "user": {
      "displayName": "Claudio Fadda",
      "photoUrl": "https://lh6.googleusercontent.com/-RfsyiML1ZWQ/AAAAAAAAAAI/AAAAAAAAAbk/D88UebQpVVc/s64/photo.jpg",
      "userId": "00091232004005178136"
     },
     "user_tz": -120
    },
    "id": "FXK07nzzv1Ct"
   },
   "outputs": [],
   "source": [
    "pd.set_option('display.max_colwidth', None)"
   ]
  },
  {
   "cell_type": "markdown",
   "metadata": {
    "id": "fnLvTCsg0aV0"
   },
   "source": [
    "## 2. Importiamo i  file json contenenti i tweet scaricati"
   ]
  },
  {
   "cell_type": "markdown",
   "metadata": {},
   "source": [
    "Tre file sono relativi ai tweet scaricati nelle ore precedenti all'evento "
   ]
  },
  {
   "cell_type": "code",
   "execution_count": 3,
   "metadata": {
    "id": "PbeuHDvz0gBT"
   },
   "outputs": [],
   "source": [
    "M_preActors =  pd.read_json(r\"tweet/M_actorsTweetsPre.txt\") #2806 rows × 7 columns\n",
    "B_preActors =  pd.read_json(r\"tweet/B_actorsTweetsPre.txt\") #2996 rows × 7 columns\n",
    "C_preActors =  pd.read_json(r\"tweet/C_actorsTweetsPre.txt\") #2861 rows × 7 columns"
   ]
  },
  {
   "cell_type": "markdown",
   "metadata": {
    "id": "dEffk8vz1Hte"
   },
   "source": [
    "Concateniamo i 3 dataset ottenendo il dataset completo \"tot_preactors\""
   ]
  },
  {
   "cell_type": "code",
   "execution_count": 4,
   "metadata": {
    "id": "AuHWErbv1MhZ"
   },
   "outputs": [],
   "source": [
    "tot_preactors = pd.concat([M_preActors,C_preActors,B_preActors]) #8645 rows × 7 columns"
   ]
  },
  {
   "cell_type": "markdown",
   "metadata": {},
   "source": [
    "Ulteriori tre file sono relativi ai tweet scaricati durante l'evento"
   ]
  },
  {
   "cell_type": "code",
   "execution_count": 5,
   "metadata": {
    "id": "7ePPUkFV14Vo"
   },
   "outputs": [],
   "source": [
    "M_ActorsTweets=  pd.read_json(r\"tweet/M_ActorsTweets\") #139645 rows × 7 columns\n",
    "B_ActorsTweets=  pd.read_json(r\"tweet/B_ActorsTweets\") #140216 rows × 7 columns\n",
    "C_ActorsTweets=  pd.read_json(r\"tweet/C_ActorsTweets\") #142216 rows × 7 columns"
   ]
  },
  {
   "cell_type": "markdown",
   "metadata": {
    "id": "JzNKWpTE2Wuz"
   },
   "source": [
    "Concateniamo i 3 dataset ottenendo un dataset completo \"tot_actors\""
   ]
  },
  {
   "cell_type": "code",
   "execution_count": 6,
   "metadata": {
    "id": "OIFctlip2RiB"
   },
   "outputs": [],
   "source": [
    "tot_actors = pd.concat([M_ActorsTweets,C_ActorsTweets,B_ActorsTweets]) #421969 rows × 7 columns"
   ]
  },
  {
   "cell_type": "markdown",
   "metadata": {
    "id": "caMwddav3QGx"
   },
   "source": [
    "Creiamo ora un dataframe \"complete_actors\" contenente tutti i tweet acquisiti prima dell'evento e durante l'evento e ne correggiamo l'ora "
   ]
  },
  {
   "cell_type": "code",
   "execution_count": 7,
   "metadata": {
    "id": "7_6cGDjz3S7n"
   },
   "outputs": [],
   "source": [
    "complete_actors = pd.concat([tot_actors,tot_preactors]) #430740 rows × 7 columns\n",
    "complete_actors['date'] = pd.DatetimeIndex(complete_actors['date']) + timedelta(hours=-7)"
   ]
  },
  {
   "cell_type": "markdown",
   "metadata": {},
   "source": [
    "Mettiamo in ordine i tweet in base all'ora di pubblicazione ed eliminiamo i tweet duplicati tramite la funzione drop duplicates"
   ]
  },
  {
   "cell_type": "code",
   "execution_count": 8,
   "metadata": {},
   "outputs": [],
   "source": [
    "complete_actors.sort_values(by = ['date'], inplace=True, ignore_index= True)\n",
    "complete_actors.drop_duplicates(subset = [\"user_id\", \"date\", \"text\"], ignore_index= True, inplace=True)"
   ]
  },
  {
   "cell_type": "markdown",
   "metadata": {},
   "source": [
    "## 3. Analisi descrittiva \n",
    "1. Numero di utenti singoli e di tweet pubblicati durante la serata\n",
    "2. Numero user bot (tweet pubblicati allo stesso secondo) \n",
    "3. Numero tweet e retweet per utente pre eliminazione dei bot \n",
    "4. Numero tweet e retweet per utente post eliminazione dei bot \n",
    "5. Numero tweet e retweet per attore/attrice\n",
    "6. Numero user bot (tweet complessivi per utente > 50) "
   ]
  },
  {
   "cell_type": "markdown",
   "metadata": {},
   "source": [
    "### 3.1 Numero di utenti singoli e di tweet pubblicati durante la serata"
   ]
  },
  {
   "cell_type": "markdown",
   "metadata": {},
   "source": [
    "Contiamo il numero di singoli utenti presenti nel dataset \"complete_actors\" (90650) ed i rispettivi tweet pubblicati e salviamo in un file csv il dataset \"user_twitter\""
   ]
  },
  {
   "cell_type": "code",
   "execution_count": 10,
   "metadata": {},
   "outputs": [],
   "source": [
    "user_twitter  = complete_actors.groupby([\"screen_name\"]).count()\n",
    "user_twitter.to_csv(r\"results/user_twitter.csv\")"
   ]
  },
  {
   "cell_type": "markdown",
   "metadata": {},
   "source": [
    "### 3.2 Numero user bot (tweet pubblicati allo stesso secondo) "
   ]
  },
  {
   "cell_type": "markdown",
   "metadata": {},
   "source": [
    "Dopodiché contiamo quanti di questi utenti hanno pubblicato tweet alla stessa ora e allo stesso secondo, raggruppando sia per nome che per data. Affinché si trovino gli utenti che hanno pubblicato più tweet allo stesso secondo imponiamo la condizione: \"_id\" > 1, tali utenti rappresentano per noi dei bot che verranno eliminati successivamente"
   ]
  },
  {
   "cell_type": "code",
   "execution_count": 11,
   "metadata": {},
   "outputs": [],
   "source": [
    "user_twitter_bot = complete_actors.groupby([\"screen_name\", \"date\"]).count()\n",
    "user_bot = user_twitter_bot[user_twitter_bot['_id']>1] \n",
    "unique_users_bot = user_bot.groupby([\"screen_name\"]).count()\n",
    "user_twitter_bot.reset_index(inplace = True)\n",
    "user_bot.reset_index(inplace = True)"
   ]
  },
  {
   "cell_type": "markdown",
   "metadata": {},
   "source": [
    "Con la seguente funzione contiamo quanti tweet sono stati pubblicati dagli user bot durante la serata, il totale risulta pari a 264, di questi 81 sono stati pubblicati nello stesso secondo"
   ]
  },
  {
   "cell_type": "code",
   "execution_count": 12,
   "metadata": {},
   "outputs": [],
   "source": [
    "i = 0 \n",
    "for bot in set(user_bot[\"screen_name\"]):\n",
    "    for utente in complete_actors[\"screen_name\"]:\n",
    "        if bot == utente: \n",
    "            i = i+1"
   ]
  },
  {
   "cell_type": "code",
   "execution_count": 13,
   "metadata": {},
   "outputs": [
    {
     "data": {
      "text/plain": [
       "264"
      ]
     },
     "execution_count": 13,
     "metadata": {},
     "output_type": "execute_result"
    }
   ],
   "source": [
    "i"
   ]
  },
  {
   "cell_type": "markdown",
   "metadata": {},
   "source": [
    "### 3.3 Numero tweet e retweet per utente pre eliminazione dei bot "
   ]
  },
  {
   "cell_type": "markdown",
   "metadata": {},
   "source": [
    "Creiamo il dataset \"retweet\" che contiene i soli retweet presenti nel dataset \"complete_actors\" e salviamo in \"tot_rt\" il numero complessivo di retweet in tutto il dataset \"complete_actors\" prima che avvenga l'eliminazione dei bot"
   ]
  },
  {
   "cell_type": "code",
   "execution_count": 14,
   "metadata": {},
   "outputs": [],
   "source": [
    "complete_actors['text'] = complete_actors['text'].str.lower()"
   ]
  },
  {
   "cell_type": "code",
   "execution_count": 15,
   "metadata": {},
   "outputs": [],
   "source": [
    "retweet = complete_actors[complete_actors['text'].str.contains('\\srt @|^rt @', regex=True)] \n",
    "tot_rt = retweet.count()"
   ]
  },
  {
   "cell_type": "markdown",
   "metadata": {},
   "source": [
    "Creiamo successivamente due dataset \"users_RT\" e \"user_TW\" dove per ogni utente è presente rispettivamente il numero di retweet e di tweet pubblicati. Infine \"count_TW_RT\" rappresenta l'unione dei due dataset precedenti, in tale dataset è presente: il numero di retweet (NumberRetweet) e di tweet per utente (NumberTweet), la percentuale di retweet sul totale dei tweet pubblicati dal singolo utente (RetweetRate) ed infine la percentuale di retweet sul totale dei tweet pubblicati da tutti gli utenti (RetweetRate_tot). "
   ]
  },
  {
   "cell_type": "code",
   "execution_count": 16,
   "metadata": {},
   "outputs": [],
   "source": [
    "users_RT = retweet.groupby('screen_name').count()\n",
    "users_TW = complete_actors.groupby('screen_name').count()\n",
    "count_TW_RT = users_TW.merge(users_RT, how='left', left_on=['screen_name'], right_on=['screen_name'])\n",
    "count_TW_RT  = count_TW_RT[['user_id_x','user_id_y']]\n",
    "count_TW_RT['RetweetRate'] = (count_TW_RT['user_id_y']/count_TW_RT['user_id_x'])*100\n",
    "count_TW_RT['RetweetRate_tot'] = (count_TW_RT['user_id_y']/ 145525)*100\n",
    "count_TW_RT[\"diff\"] = count_TW_RT['user_id_x'] - count_TW_RT['user_id_y']\n",
    "count_TW_RT.reset_index(inplace=True)\n",
    "count_TW_RT.rename(columns={\"user_id_x\":\"NumberTweet\", \"user_id_y\":\"NumberRetweet\", \"screen_name\":\"UserName\"},inplace=True)"
   ]
  },
  {
   "cell_type": "markdown",
   "metadata": {},
   "source": [
    "# Procediamo con l'eliminazione degli utenti bot "
   ]
  },
  {
   "cell_type": "markdown",
   "metadata": {},
   "source": [
    "Prepariamo le colonne \"date\" e \"text\" e carichiamo il dataset \"track_actors\" che contiene la lista dei nomi degli attori. Tale dataset ci consentirà di runnare la funzione \"trova\", nello specifico quest'ultima valuta se all'interno del tweet viene menzionato l'attore/attrice, una volta trovato il nome e/o cognome dell'attore/attrice li inserisce in una nuova colonna \"reg\", in caso contrario tale cella rimane vuota. Tale funzione consente successivamente di mantenere nel dataset solo quei tweet in cui effettivamente è stato nominato l'attore o l'attrice, scartando pertanto tutti i tweet che sono stati scaricati erroneamente. "
   ]
  },
  {
   "cell_type": "code",
   "execution_count": 17,
   "metadata": {
    "id": "nRv3Yhm04Oj2"
   },
   "outputs": [],
   "source": [
    "complete_actors['date'] = pd.to_datetime(complete_actors['date'], format = '%Y-%m-%d %H-%m-%s')\n",
    "complete_actors.sort_values(by = ['date'], inplace=True, ignore_index= True) \n",
    "complete_actors['text'] = complete_actors['text'].str.replace(\"\\n\",\" \", regex=True)\n",
    "complete_actors['text'] = complete_actors['text'].str.replace(\"#\",\"\", regex=True)\n",
    "complete_actors['text'] = complete_actors['text'].str.replace(\"http\\S+\",\"\", regex=True)"
   ]
  },
  {
   "cell_type": "markdown",
   "metadata": {},
   "source": [
    "Facciamo in modo che tutto il testo della colonna \"text\" in complete_actors sia minuscolo poiché nel dataset \"track_actors\" tutte le parole chiave sono in minuscolo. In questo modo il confronto diventa più agevole."
   ]
  },
  {
   "cell_type": "code",
   "execution_count": 18,
   "metadata": {},
   "outputs": [
    {
     "data": {
      "text/html": [
       "<div>\n",
       "<style scoped>\n",
       "    .dataframe tbody tr th:only-of-type {\n",
       "        vertical-align: middle;\n",
       "    }\n",
       "\n",
       "    .dataframe tbody tr th {\n",
       "        vertical-align: top;\n",
       "    }\n",
       "\n",
       "    .dataframe thead th {\n",
       "        text-align: right;\n",
       "    }\n",
       "</style>\n",
       "<table border=\"1\" class=\"dataframe\">\n",
       "  <thead>\n",
       "    <tr style=\"text-align: right;\">\n",
       "      <th></th>\n",
       "      <th>_id</th>\n",
       "      <th>date</th>\n",
       "      <th>user_id</th>\n",
       "      <th>username</th>\n",
       "      <th>screen_name</th>\n",
       "      <th>text</th>\n",
       "      <th>hashtags</th>\n",
       "    </tr>\n",
       "  </thead>\n",
       "  <tbody>\n",
       "    <tr>\n",
       "      <th>0</th>\n",
       "      <td>6085da912ab79c00399db265</td>\n",
       "      <td>2021-04-25 14:09:31</td>\n",
       "      <td>29838664</td>\n",
       "      <td>b'77</td>\n",
       "      <td>bozzie_me</td>\n",
       "      <td>burn hollywood and the oscars  to the ground.</td>\n",
       "      <td>[Oscars]</td>\n",
       "    </tr>\n",
       "    <tr>\n",
       "      <th>1</th>\n",
       "      <td>6085da922ab79c00399db266</td>\n",
       "      <td>2021-04-25 14:09:32</td>\n",
       "      <td>769726314097946624</td>\n",
       "      <td>AwkwardOcto</td>\n",
       "      <td>OctoTimeKeep</td>\n",
       "      <td>rt @deer_head_xiris: yeah wow let’s pay respect to his memory by profiting off of his likeness in the most environmentally harmful way poss…</td>\n",
       "      <td>[]</td>\n",
       "    </tr>\n",
       "    <tr>\n",
       "      <th>2</th>\n",
       "      <td>6085da962ab79c00399db268</td>\n",
       "      <td>2021-04-25 14:09:37</td>\n",
       "      <td>46250847</td>\n",
       "      <td>e-bóia</td>\n",
       "      <td>kyammi</td>\n",
       "      <td>rt @navycherub: love to have my death ghoulishly monetized via the most embarrassing scam concept in recent history</td>\n",
       "      <td>[]</td>\n",
       "    </tr>\n",
       "    <tr>\n",
       "      <th>3</th>\n",
       "      <td>6085da962ab79c00399db269</td>\n",
       "      <td>2021-04-25 14:09:37</td>\n",
       "      <td>525817082</td>\n",
       "      <td>Chris Bernardo</td>\n",
       "      <td>HisAirnessFan45</td>\n",
       "      <td>i think daniel kaluuya should win best supporting actor.oscars</td>\n",
       "      <td>[Oscars]</td>\n",
       "    </tr>\n",
       "    <tr>\n",
       "      <th>4</th>\n",
       "      <td>6085da982ab79c00399db26a</td>\n",
       "      <td>2021-04-25 14:09:38</td>\n",
       "      <td>950123075885981696</td>\n",
       "      <td>SirMunches</td>\n",
       "      <td>MunchesSir</td>\n",
       "      <td>rt @jenn0wow: idk what’s worse the fact that it’s an nft, the fact that chadwick boseman’s death is being commodified, or that this is in e…</td>\n",
       "      <td>[]</td>\n",
       "    </tr>\n",
       "    <tr>\n",
       "      <th>...</th>\n",
       "      <td>...</td>\n",
       "      <td>...</td>\n",
       "      <td>...</td>\n",
       "      <td>...</td>\n",
       "      <td>...</td>\n",
       "      <td>...</td>\n",
       "      <td>...</td>\n",
       "    </tr>\n",
       "    <tr>\n",
       "      <th>145520</th>\n",
       "      <td>{'$oid': '608631362ab79c003a6fefdf'}</td>\n",
       "      <td>2021-04-25 20:19:12</td>\n",
       "      <td>2980096259</td>\n",
       "      <td>ً</td>\n",
       "      <td>meisseeking</td>\n",
       "      <td>deserved</td>\n",
       "      <td>[]</td>\n",
       "    </tr>\n",
       "    <tr>\n",
       "      <th>145521</th>\n",
       "      <td>{'$oid': '608631362ab79c003a6fefe0'}</td>\n",
       "      <td>2021-04-25 20:19:12</td>\n",
       "      <td>204970044</td>\n",
       "      <td>Chris Smith</td>\n",
       "      <td>tankytankerson</td>\n",
       "      <td>pretty sure they just keep giving frances mcdormand oscars because they're scared of her academyawards</td>\n",
       "      <td>[AcademyAwards]</td>\n",
       "    </tr>\n",
       "    <tr>\n",
       "      <th>145522</th>\n",
       "      <td>{'$oid': '608631362ab79c003a6fefdc'}</td>\n",
       "      <td>2021-04-25 20:19:12</td>\n",
       "      <td>253349349</td>\n",
       "      <td>👩🏽‍💻</td>\n",
       "      <td>Ohh_Daisyy</td>\n",
       "      <td>rt @crystalejandro: the way black people run away when something is funny&amp;gt;&amp;gt;&amp;gt;&amp;gt;</td>\n",
       "      <td>[]</td>\n",
       "    </tr>\n",
       "    <tr>\n",
       "      <th>145523</th>\n",
       "      <td>{'$oid': '608631362ab79c003a6fefda'}</td>\n",
       "      <td>2021-04-25 20:19:12</td>\n",
       "      <td>2898053882</td>\n",
       "      <td>𝘣𝘶𝘯𝘯𝘺𝘣𝘢𝘯𝘨 ᙏ̤̫</td>\n",
       "      <td>shawinkgirl</td>\n",
       "      <td>rt @gma: glenn close is a national treasure.  dabutt oscars</td>\n",
       "      <td>[DaButt, Oscars]</td>\n",
       "    </tr>\n",
       "    <tr>\n",
       "      <th>145524</th>\n",
       "      <td>{'$oid': '608631362ab79c003a6fefd7'}</td>\n",
       "      <td>2021-04-25 20:19:12</td>\n",
       "      <td>924980395636023296</td>\n",
       "      <td>Shivam Goyal🇮🇳</td>\n",
       "      <td>imshivmgoyal</td>\n",
       "      <td>rt @ndtv: oscars frances mcdormand wins best actress for nomadland  list of winners:</td>\n",
       "      <td>[Oscars, Nomadland]</td>\n",
       "    </tr>\n",
       "  </tbody>\n",
       "</table>\n",
       "<p>145525 rows × 7 columns</p>\n",
       "</div>"
      ],
      "text/plain": [
       "                                         _id                date  \\\n",
       "0                   6085da912ab79c00399db265 2021-04-25 14:09:31   \n",
       "1                   6085da922ab79c00399db266 2021-04-25 14:09:32   \n",
       "2                   6085da962ab79c00399db268 2021-04-25 14:09:37   \n",
       "3                   6085da962ab79c00399db269 2021-04-25 14:09:37   \n",
       "4                   6085da982ab79c00399db26a 2021-04-25 14:09:38   \n",
       "...                                      ...                 ...   \n",
       "145520  {'$oid': '608631362ab79c003a6fefdf'} 2021-04-25 20:19:12   \n",
       "145521  {'$oid': '608631362ab79c003a6fefe0'} 2021-04-25 20:19:12   \n",
       "145522  {'$oid': '608631362ab79c003a6fefdc'} 2021-04-25 20:19:12   \n",
       "145523  {'$oid': '608631362ab79c003a6fefda'} 2021-04-25 20:19:12   \n",
       "145524  {'$oid': '608631362ab79c003a6fefd7'} 2021-04-25 20:19:12   \n",
       "\n",
       "                   user_id        username      screen_name  \\\n",
       "0                 29838664            b'77        bozzie_me   \n",
       "1       769726314097946624     AwkwardOcto     OctoTimeKeep   \n",
       "2                 46250847          e-bóia           kyammi   \n",
       "3                525817082  Chris Bernardo  HisAirnessFan45   \n",
       "4       950123075885981696      SirMunches       MunchesSir   \n",
       "...                    ...             ...              ...   \n",
       "145520          2980096259               ً      meisseeking   \n",
       "145521           204970044     Chris Smith   tankytankerson   \n",
       "145522           253349349            👩🏽‍💻       Ohh_Daisyy   \n",
       "145523          2898053882   𝘣𝘶𝘯𝘯𝘺𝘣𝘢𝘯𝘨 ᙏ̤̫      shawinkgirl   \n",
       "145524  924980395636023296  Shivam Goyal🇮🇳     imshivmgoyal   \n",
       "\n",
       "                                                                                                                                                text  \\\n",
       "0                                                                                                      burn hollywood and the oscars  to the ground.   \n",
       "1       rt @deer_head_xiris: yeah wow let’s pay respect to his memory by profiting off of his likeness in the most environmentally harmful way poss…   \n",
       "2                                rt @navycherub: love to have my death ghoulishly monetized via the most embarrassing scam concept in recent history   \n",
       "3                                                                                     i think daniel kaluuya should win best supporting actor.oscars   \n",
       "4       rt @jenn0wow: idk what’s worse the fact that it’s an nft, the fact that chadwick boseman’s death is being commodified, or that this is in e…   \n",
       "...                                                                                                                                              ...   \n",
       "145520                                                                                                                                      deserved   \n",
       "145521                                        pretty sure they just keep giving frances mcdormand oscars because they're scared of her academyawards   \n",
       "145522                                                     rt @crystalejandro: the way black people run away when something is funny&gt;&gt;&gt;&gt;   \n",
       "145523                                                                                 rt @gma: glenn close is a national treasure.  dabutt oscars     \n",
       "145524                                                        rt @ndtv: oscars frances mcdormand wins best actress for nomadland  list of winners:     \n",
       "\n",
       "                   hashtags  \n",
       "0                  [Oscars]  \n",
       "1                        []  \n",
       "2                        []  \n",
       "3                  [Oscars]  \n",
       "4                        []  \n",
       "...                     ...  \n",
       "145520                   []  \n",
       "145521      [AcademyAwards]  \n",
       "145522                   []  \n",
       "145523     [DaButt, Oscars]  \n",
       "145524  [Oscars, Nomadland]  \n",
       "\n",
       "[145525 rows x 7 columns]"
      ]
     },
     "execution_count": 18,
     "metadata": {},
     "output_type": "execute_result"
    }
   ],
   "source": [
    "complete_actors"
   ]
  },
  {
   "cell_type": "code",
   "execution_count": 19,
   "metadata": {
    "scrolled": true
   },
   "outputs": [],
   "source": [
    "track_actors = pd.read_csv(r\"dataset/trackActors.csv\", sep = \",\")"
   ]
  },
  {
   "cell_type": "code",
   "execution_count": 20,
   "metadata": {
    "scrolled": true
   },
   "outputs": [],
   "source": [
    "def trova (riga):\n",
    "    ltot=[]\n",
    "    for x,y,z in zip(track_actors['name'], track_actors['surname'], track_actors['keys']):\n",
    "        string_re = re.compile(f'(?P<Name>{x})|(?P<Surname>{y})|(?P<Keys>{z})')\n",
    "        occurrence = string_re.search(riga)\n",
    "        if occurrence:\n",
    "            if (occurrence.group(\"Name\")) != '[]':\n",
    "                ltot += [x + ' ' + y]\n",
    "            elif (occurrence.group(\"Surname\")) != '[]':\n",
    "                ltot += [x + ' ' + y]\n",
    "            elif (occurrence.group(\"Keys\")) != '[]':\n",
    "                ltot += [x + ' ' + y]\n",
    "    return (ltot)"
   ]
  },
  {
   "cell_type": "code",
   "execution_count": 21,
   "metadata": {
    "scrolled": false
   },
   "outputs": [],
   "source": [
    "complete_actors['reg'] = complete_actors['text'].apply(trova)"
   ]
  },
  {
   "cell_type": "markdown",
   "metadata": {},
   "source": [
    "Creiamo un nuovo dataset \"tweet_per_actors\" tramite la funzione explode che crea una riga per ogni citazione ad attore che viene fatta all'interno del tweet ed eliminiamo tutti i tweet associati a un utente bot"
   ]
  },
  {
   "cell_type": "code",
   "execution_count": 22,
   "metadata": {},
   "outputs": [],
   "source": [
    "tweet_per_actors = complete_actors.explode('reg')"
   ]
  },
  {
   "cell_type": "markdown",
   "metadata": {},
   "source": [
    "Tramite dropna eliminiamo tutti quei tweet che non contengono citazioni ad alcun attore/attrice, i tweet che vengono eliminati perché non citano attori/attrici sono pari a 34352"
   ]
  },
  {
   "cell_type": "code",
   "execution_count": 23,
   "metadata": {
    "scrolled": true
   },
   "outputs": [],
   "source": [
    "tweet_per_actors.dropna(inplace=True)"
   ]
  },
  {
   "cell_type": "code",
   "execution_count": 24,
   "metadata": {},
   "outputs": [
    {
     "data": {
      "text/plain": [
       "34352"
      ]
     },
     "execution_count": 24,
     "metadata": {},
     "output_type": "execute_result"
    }
   ],
   "source": [
    "null_tweet_eliminated = 156086 -121734\n",
    "null_tweet_eliminated"
   ]
  },
  {
   "cell_type": "markdown",
   "metadata": {},
   "source": [
    "Eliminiamo ora tutti i tweet pubblicati da utenti bot che hanno tweettato nella stessa data (ora e secondi)"
   ]
  },
  {
   "cell_type": "code",
   "execution_count": 25,
   "metadata": {},
   "outputs": [],
   "source": [
    "for bot in set(user_bot['screen_name']):\n",
    "     for utente in tweet_per_actors[\"screen_name\"]:\n",
    "            if bot == utente: \n",
    "                tweet_per_actors = tweet_per_actors.drop(tweet_per_actors[\"screen_name\"].loc[tweet_per_actors[\"screen_name\"]==utente].index)"
   ]
  },
  {
   "cell_type": "code",
   "execution_count": 26,
   "metadata": {},
   "outputs": [
    {
     "data": {
      "text/plain": [
       "241"
      ]
     },
     "execution_count": 26,
     "metadata": {},
     "output_type": "execute_result"
    }
   ],
   "source": [
    "bot_tweet_eliminated= 121734-121493\n",
    "bot_tweet_eliminated"
   ]
  },
  {
   "cell_type": "markdown",
   "metadata": {},
   "source": [
    "### Assegnamo ad ogni attore/attrice presente nella colonna \"reg\" il codice IMDB corrispondente"
   ]
  },
  {
   "cell_type": "code",
   "execution_count": 27,
   "metadata": {},
   "outputs": [],
   "source": [
    "def trova1 (riga):\n",
    "    ltot=[]\n",
    "    for x,y in zip(track_actors['name'], track_actors['surname']):\n",
    "        if riga[\"name\"]== x and riga['surname']== y:\n",
    "            ltot += [x + ' ' + y]\n",
    "    return (ltot)"
   ]
  },
  {
   "cell_type": "code",
   "execution_count": 28,
   "metadata": {},
   "outputs": [],
   "source": [
    "track_actors['NameSur'] = track_actors.apply(trova1, axis= 1)"
   ]
  },
  {
   "cell_type": "code",
   "execution_count": 29,
   "metadata": {},
   "outputs": [],
   "source": [
    "track_actors[\"NameSur\"] = track_actors[\"NameSur\"].astype(str)"
   ]
  },
  {
   "cell_type": "code",
   "execution_count": 30,
   "metadata": {},
   "outputs": [],
   "source": [
    "track_actors['NameSur'] = track_actors['NameSur'].str.replace(\"\\['\",\"\", regex=True)"
   ]
  },
  {
   "cell_type": "code",
   "execution_count": 31,
   "metadata": {},
   "outputs": [],
   "source": [
    "track_actors['NameSur'] = track_actors['NameSur'].str.replace(\"\\']\",\"\", regex=True)"
   ]
  },
  {
   "cell_type": "code",
   "execution_count": 32,
   "metadata": {},
   "outputs": [],
   "source": [
    "def codice (riga):\n",
    "    trovato=[]\n",
    "    for i, j in zip(track_actors['NameSur'], track_actors['actorId']):\n",
    "        if riga[\"reg\"] == i: \n",
    "            return (j)"
   ]
  },
  {
   "cell_type": "code",
   "execution_count": 33,
   "metadata": {},
   "outputs": [],
   "source": [
    "tweet_per_actors['actorId'] = tweet_per_actors.apply(codice, axis = 1)"
   ]
  },
  {
   "cell_type": "markdown",
   "metadata": {},
   "source": [
    "Salviamo il nuovo dataset nel file \"tweet_per_actors\""
   ]
  },
  {
   "cell_type": "code",
   "execution_count": 34,
   "metadata": {},
   "outputs": [],
   "source": [
    "tweet_per_actors.to_csv(r\"results/tweet_per_actors.csv\")"
   ]
  },
  {
   "cell_type": "markdown",
   "metadata": {},
   "source": [
    "### 3.4 Numero tweet e retweet per utente post eliminazione dei bot "
   ]
  },
  {
   "cell_type": "markdown",
   "metadata": {},
   "source": [
    "Creiamo il dataset \"retweet1\" che contiene i soli retweet presenti nel dataset \"tweet_per_actors\" e salviamo in \"tot_rt1\" il numero complessivo di retweet presenti in tutto il dataset \"tweet_per_actors\" (110258)."
   ]
  },
  {
   "cell_type": "code",
   "execution_count": 35,
   "metadata": {},
   "outputs": [],
   "source": [
    "retweet1 = tweet_per_actors[tweet_per_actors['text'].str.contains('\\srt @|^rt @', regex=True)] \n",
    "tot_rt1 = retweet1.count()"
   ]
  },
  {
   "cell_type": "code",
   "execution_count": 36,
   "metadata": {},
   "outputs": [
    {
     "data": {
      "text/plain": [
       "_id            110258\n",
       "date           110258\n",
       "user_id        110258\n",
       "username       110258\n",
       "screen_name    110258\n",
       "text           110258\n",
       "hashtags       110258\n",
       "reg            110258\n",
       "actorId        110258\n",
       "dtype: int64"
      ]
     },
     "execution_count": 36,
     "metadata": {},
     "output_type": "execute_result"
    }
   ],
   "source": [
    "tot_rt1"
   ]
  },
  {
   "cell_type": "markdown",
   "metadata": {},
   "source": [
    "Creiamo successivamente due dataset \"users_RT1\" e \"users_TW1\" dove per ogni utente è presente rispettivamente il numero di retweet e di tweet pubblicati. Infine \"count_TW_RT1\" rappresenta l'unione dei due dataset precedenti, in tale dataset è presente: il numero di retweet (NumberRetweet) e di tweet per utente (NumberTweet), la percentuale di retweet sul totale dei tweet pubblicati dal singolo utente (RetweetRate) ed infine la percentuale di retweet sul totale dei tweet pubblicati da tutti i tweet (RetweetRate_tot). "
   ]
  },
  {
   "cell_type": "code",
   "execution_count": 37,
   "metadata": {},
   "outputs": [],
   "source": [
    "users_RT1 = retweet1 .groupby(['screen_name', 'date']).count()\n",
    "users_TW1 = tweet_per_actors.groupby(['screen_name', 'date']).count()\n",
    "users_RT2 = users_RT1.groupby('screen_name').count()\n",
    "users_TW2 =users_TW1.groupby('screen_name').count()\n",
    "count_TW_RT1 = users_TW2.merge(users_RT2, how='left', left_on=['screen_name'], right_on=['screen_name'])"
   ]
  },
  {
   "cell_type": "code",
   "execution_count": 38,
   "metadata": {},
   "outputs": [],
   "source": [
    "count_TW_RT1  = count_TW_RT1[['user_id_x','user_id_y']]\n",
    "count_TW_RT1[\"RetweetRate\"] = (count_TW_RT1['user_id_y']/count_TW_RT1['user_id_x'])*100\n",
    "count_TW_RT1[\"RetweetRate_tot\"] = (count_TW_RT1['user_id_y']/132025*100)\n",
    "count_TW_RT1[\"diff\"] = count_TW_RT1['user_id_x'] - count_TW_RT1['user_id_y']\n",
    "count_TW_RT1.reset_index(inplace=True)\n",
    "count_TW_RT1.rename(columns={\"user_id_x\":\"NumberTweet\", \"user_id_y\":\"NumberRetweet\",\"screen_name\":\"UserName\"})\n",
    "count_TW_RT1.to_csv(r\"results/count_users_post_actors.csv\")"
   ]
  },
  {
   "cell_type": "markdown",
   "metadata": {},
   "source": [
    "### 3.5 Numero tweet e retweet per attore/attrice"
   ]
  },
  {
   "cell_type": "markdown",
   "metadata": {},
   "source": [
    "Svolgiamo gli stessi procedimenti per gli attori, ottenendo un nuovo dataset \"count_TW_RT_A\" che presenta per ogni attore/attrice il numero di tweet e di retweet in cui è stato menzionato"
   ]
  },
  {
   "cell_type": "code",
   "execution_count": 39,
   "metadata": {},
   "outputs": [],
   "source": [
    "number_RT_A = retweet1.groupby('reg').count()\n",
    "number_TW_A = tweet_per_actors.groupby('reg').count()\n",
    "count_TW_RT_A = number_RT_A.merge(number_TW_A, how='inner', on='reg')"
   ]
  },
  {
   "cell_type": "code",
   "execution_count": 40,
   "metadata": {},
   "outputs": [],
   "source": [
    "count_TW_RT_A=count_TW_RT_A[['_id_x', '_id_y' ]]\n",
    "count_TW_RT_A['RetweetRate'] = (count_TW_RT_A['_id_x']/count_TW_RT_A['_id_y'])*100\n",
    "count_TW_RT_A[\"diff\"] = count_TW_RT_A['_id_y'] - count_TW_RT_A['_id_x']\n",
    "count_TW_RT_A.reset_index(inplace=True)\n",
    "count_TW_RT_A = count_TW_RT_A.rename(columns={\"_id_x\":\"NumberRetweet\", \"_id_y\":\"NumberTweet\",\"reg\":\"ActorName\"})"
   ]
  },
  {
   "cell_type": "code",
   "execution_count": 41,
   "metadata": {},
   "outputs": [],
   "source": [
    "count_TW_RT_A.to_csv(r\"results/count_actors_post.csv\")"
   ]
  },
  {
   "cell_type": "markdown",
   "metadata": {},
   "source": [
    "### 3.6 Numero user bot (tweet complessivi per utente > 50) "
   ]
  },
  {
   "cell_type": "markdown",
   "metadata": {},
   "source": [
    "Valutiamo ora gli utenti che potrebbero essere considerati bot qualora il numero di tweet pubblicati durante la serata sia considerevole. In \"user_high_tweets\" sono presenti i soli utenti che presentano un numero di tweet superiore a 50, poiché tali utenti non hanno pubblicato nel medesimo secondo e siccome rappresentano solo 9/90650 = 0.01% non si è ritenuto opportuno eliminarli"
   ]
  },
  {
   "cell_type": "code",
   "execution_count": 42,
   "metadata": {},
   "outputs": [],
   "source": [
    "tweet_per_user = complete_actors.groupby(\"screen_name\").count()"
   ]
  },
  {
   "cell_type": "code",
   "execution_count": 43,
   "metadata": {},
   "outputs": [],
   "source": [
    "user_high_tweets = tweet_per_user[tweet_per_user[\"_id\"]>50]"
   ]
  },
  {
   "cell_type": "markdown",
   "metadata": {},
   "source": [
    "## 4. Valutazione utenti con screen_name o username costituiti da soli numeri"
   ]
  },
  {
   "cell_type": "code",
   "execution_count": 44,
   "metadata": {},
   "outputs": [
    {
     "data": {
      "text/html": [
       "<div>\n",
       "<style scoped>\n",
       "    .dataframe tbody tr th:only-of-type {\n",
       "        vertical-align: middle;\n",
       "    }\n",
       "\n",
       "    .dataframe tbody tr th {\n",
       "        vertical-align: top;\n",
       "    }\n",
       "\n",
       "    .dataframe thead th {\n",
       "        text-align: right;\n",
       "    }\n",
       "</style>\n",
       "<table border=\"1\" class=\"dataframe\">\n",
       "  <thead>\n",
       "    <tr style=\"text-align: right;\">\n",
       "      <th></th>\n",
       "      <th>_id</th>\n",
       "      <th>date</th>\n",
       "      <th>user_id</th>\n",
       "      <th>username</th>\n",
       "      <th>screen_name</th>\n",
       "      <th>text</th>\n",
       "      <th>hashtags</th>\n",
       "      <th>reg</th>\n",
       "    </tr>\n",
       "  </thead>\n",
       "  <tbody>\n",
       "    <tr>\n",
       "      <th>668</th>\n",
       "      <td>6085def6a7b11b003eb68922</td>\n",
       "      <td>2021-04-25 14:28:17</td>\n",
       "      <td>1300444418927812608</td>\n",
       "      <td>1111</td>\n",
       "      <td>ghostcowgoesboo</td>\n",
       "      <td>rt @jenn0wow: idk what’s worse the fact that it’s an nft, the fact that chadwick boseman’s death is being commodified, or that this is in e…</td>\n",
       "      <td>[]</td>\n",
       "      <td>[chadwick boseman]</td>\n",
       "    </tr>\n",
       "    <tr>\n",
       "      <th>3652</th>\n",
       "      <td>{'$oid': '6086051ca7b11b003a59bc52'}</td>\n",
       "      <td>2021-04-25 17:11:03</td>\n",
       "      <td>1868204714</td>\n",
       "      <td>1111</td>\n",
       "      <td>angelemarie_</td>\n",
       "      <td>rt @variety: best supporting actor nominees daniel kaluuya and leslie odom jr. share a laugh on the oscars red carpet. we love to see it h…</td>\n",
       "      <td>[Oscars]</td>\n",
       "      <td>[daniel kaluuya, leslie odom]</td>\n",
       "    </tr>\n",
       "    <tr>\n",
       "      <th>3775</th>\n",
       "      <td>{'$oid': '608605402ab79c003a6b8cda'}</td>\n",
       "      <td>2021-04-25 17:11:38</td>\n",
       "      <td>83178391</td>\n",
       "      <td>555</td>\n",
       "      <td>SadeBrown_718</td>\n",
       "      <td>rt @crystalejandro: the way black people run away when something is funny&amp;gt;&amp;gt;&amp;gt;&amp;gt;</td>\n",
       "      <td>[]</td>\n",
       "      <td>[]</td>\n",
       "    </tr>\n",
       "    <tr>\n",
       "      <th>7586</th>\n",
       "      <td>{'$oid': '6086097ca7b11b003a59fc94'}</td>\n",
       "      <td>2021-04-25 17:29:43</td>\n",
       "      <td>1351973463557365760</td>\n",
       "      <td>2</td>\n",
       "      <td>kmk_299</td>\n",
       "      <td>now tell me why homophobe lakeith stanfield is there when he was trashing the organizations so days ago ??  oscars</td>\n",
       "      <td>[Oscars]</td>\n",
       "      <td>[andra day, lakeith stanfield]</td>\n",
       "    </tr>\n",
       "    <tr>\n",
       "      <th>8052</th>\n",
       "      <td>{'$oid': '608609b82ab79c003a6bcf31'}</td>\n",
       "      <td>2021-04-25 17:30:42</td>\n",
       "      <td>1173681213753765888</td>\n",
       "      <td>888</td>\n",
       "      <td>kozykid1</td>\n",
       "      <td>yeah</td>\n",
       "      <td>[]</td>\n",
       "      <td>[]</td>\n",
       "    </tr>\n",
       "    <tr>\n",
       "      <th>...</th>\n",
       "      <td>...</td>\n",
       "      <td>...</td>\n",
       "      <td>...</td>\n",
       "      <td>...</td>\n",
       "      <td>...</td>\n",
       "      <td>...</td>\n",
       "      <td>...</td>\n",
       "      <td>...</td>\n",
       "    </tr>\n",
       "    <tr>\n",
       "      <th>138941</th>\n",
       "      <td>{'$oid': '60862fe9a7b11b003a5dead2'}</td>\n",
       "      <td>2021-04-25 20:13:39</td>\n",
       "      <td>3208775450</td>\n",
       "      <td>3</td>\n",
       "      <td>Pitchayood</td>\n",
       "      <td>rt @geeksofcolor: congratulations to frances mcdormand on winning the academy award for best actress in a leading role for her performance…</td>\n",
       "      <td>[]</td>\n",
       "      <td>[frances mcdormand]</td>\n",
       "    </tr>\n",
       "    <tr>\n",
       "      <th>139054</th>\n",
       "      <td>{'$oid': '60862fed2ab79c0039bac81e'}</td>\n",
       "      <td>2021-04-25 20:13:43</td>\n",
       "      <td>954920996024152064</td>\n",
       "      <td>2013</td>\n",
       "      <td>O613_twt</td>\n",
       "      <td>rt @gma: yuh-jung youn won the academy award for best supporting actress for her performance in \"minari\" at the 2021 oscars on sunday. htt…</td>\n",
       "      <td>[Oscars]</td>\n",
       "      <td>[andra day, yuh-jung youn]</td>\n",
       "    </tr>\n",
       "    <tr>\n",
       "      <th>141109</th>\n",
       "      <td>{'$oid': '6086303d2ab79c003a6fc87b'}</td>\n",
       "      <td>2021-04-25 20:15:03</td>\n",
       "      <td>330970436</td>\n",
       "      <td>0308</td>\n",
       "      <td>zno000</td>\n",
       "      <td>rt @mubi: best actress: frances mcdormand (nomadland) oscars</td>\n",
       "      <td>[Oscars]</td>\n",
       "      <td>[frances mcdormand]</td>\n",
       "    </tr>\n",
       "    <tr>\n",
       "      <th>142961</th>\n",
       "      <td>{'$oid': '608630992ab79c003a6fd82e'}</td>\n",
       "      <td>2021-04-25 20:16:36</td>\n",
       "      <td>64622856</td>\n",
       "      <td>3</td>\n",
       "      <td>DenimandChard</td>\n",
       "      <td>bitch please! i’m severely upset!</td>\n",
       "      <td>[]</td>\n",
       "      <td>[]</td>\n",
       "    </tr>\n",
       "    <tr>\n",
       "      <th>143493</th>\n",
       "      <td>{'$oid': '608630b92ab79c003a6fdcf6'}</td>\n",
       "      <td>2021-04-25 20:17:07</td>\n",
       "      <td>2939086145</td>\n",
       "      <td>143</td>\n",
       "      <td>class_clown36</td>\n",
       "      <td>rt @phil_lewis_: glenn close stole the show at the oscars</td>\n",
       "      <td>[Oscars]</td>\n",
       "      <td>[glenn close]</td>\n",
       "    </tr>\n",
       "  </tbody>\n",
       "</table>\n",
       "<p>161 rows × 8 columns</p>\n",
       "</div>"
      ],
      "text/plain": [
       "                                         _id                date  \\\n",
       "668                 6085def6a7b11b003eb68922 2021-04-25 14:28:17   \n",
       "3652    {'$oid': '6086051ca7b11b003a59bc52'} 2021-04-25 17:11:03   \n",
       "3775    {'$oid': '608605402ab79c003a6b8cda'} 2021-04-25 17:11:38   \n",
       "7586    {'$oid': '6086097ca7b11b003a59fc94'} 2021-04-25 17:29:43   \n",
       "8052    {'$oid': '608609b82ab79c003a6bcf31'} 2021-04-25 17:30:42   \n",
       "...                                      ...                 ...   \n",
       "138941  {'$oid': '60862fe9a7b11b003a5dead2'} 2021-04-25 20:13:39   \n",
       "139054  {'$oid': '60862fed2ab79c0039bac81e'} 2021-04-25 20:13:43   \n",
       "141109  {'$oid': '6086303d2ab79c003a6fc87b'} 2021-04-25 20:15:03   \n",
       "142961  {'$oid': '608630992ab79c003a6fd82e'} 2021-04-25 20:16:36   \n",
       "143493  {'$oid': '608630b92ab79c003a6fdcf6'} 2021-04-25 20:17:07   \n",
       "\n",
       "                    user_id username      screen_name  \\\n",
       "668     1300444418927812608     1111  ghostcowgoesboo   \n",
       "3652             1868204714     1111     angelemarie_   \n",
       "3775               83178391      555    SadeBrown_718   \n",
       "7586    1351973463557365760        2          kmk_299   \n",
       "8052    1173681213753765888      888         kozykid1   \n",
       "...                     ...      ...              ...   \n",
       "138941           3208775450        3       Pitchayood   \n",
       "139054   954920996024152064     2013         O613_twt   \n",
       "141109            330970436     0308           zno000   \n",
       "142961             64622856        3    DenimandChard   \n",
       "143493           2939086145      143    class_clown36   \n",
       "\n",
       "                                                                                                                                                text  \\\n",
       "668     rt @jenn0wow: idk what’s worse the fact that it’s an nft, the fact that chadwick boseman’s death is being commodified, or that this is in e…   \n",
       "3652     rt @variety: best supporting actor nominees daniel kaluuya and leslie odom jr. share a laugh on the oscars red carpet. we love to see it h…   \n",
       "3775                                                       rt @crystalejandro: the way black people run away when something is funny&gt;&gt;&gt;&gt;   \n",
       "7586                              now tell me why homophobe lakeith stanfield is there when he was trashing the organizations so days ago ??  oscars   \n",
       "8052                                                                                                                                            yeah   \n",
       "...                                                                                                                                              ...   \n",
       "138941   rt @geeksofcolor: congratulations to frances mcdormand on winning the academy award for best actress in a leading role for her performance…   \n",
       "139054   rt @gma: yuh-jung youn won the academy award for best supporting actress for her performance in \"minari\" at the 2021 oscars on sunday. htt…   \n",
       "141109                                                                                 rt @mubi: best actress: frances mcdormand (nomadland) oscars    \n",
       "142961                                                                                                             bitch please! i’m severely upset!   \n",
       "143493                                                                                    rt @phil_lewis_: glenn close stole the show at the oscars    \n",
       "\n",
       "        hashtags                             reg  \n",
       "668           []              [chadwick boseman]  \n",
       "3652    [Oscars]   [daniel kaluuya, leslie odom]  \n",
       "3775          []                              []  \n",
       "7586    [Oscars]  [andra day, lakeith stanfield]  \n",
       "8052          []                              []  \n",
       "...          ...                             ...  \n",
       "138941        []             [frances mcdormand]  \n",
       "139054  [Oscars]      [andra day, yuh-jung youn]  \n",
       "141109  [Oscars]             [frances mcdormand]  \n",
       "142961        []                              []  \n",
       "143493  [Oscars]                   [glenn close]  \n",
       "\n",
       "[161 rows x 8 columns]"
      ]
     },
     "execution_count": 44,
     "metadata": {},
     "output_type": "execute_result"
    }
   ],
   "source": [
    "complete_actors[complete_actors['screen_name'].str.contains('^\\d+$', regex=True)]\n",
    "complete_actors[complete_actors['username'].str.contains('^\\d+$', regex=True)]"
   ]
  },
  {
   "cell_type": "markdown",
   "metadata": {},
   "source": [
    "## 5. Valutazione utenti con emoji nello username"
   ]
  },
  {
   "cell_type": "code",
   "execution_count": 45,
   "metadata": {},
   "outputs": [
    {
     "data": {
      "text/html": [
       "<div>\n",
       "<style scoped>\n",
       "    .dataframe tbody tr th:only-of-type {\n",
       "        vertical-align: middle;\n",
       "    }\n",
       "\n",
       "    .dataframe tbody tr th {\n",
       "        vertical-align: top;\n",
       "    }\n",
       "\n",
       "    .dataframe thead th {\n",
       "        text-align: right;\n",
       "    }\n",
       "</style>\n",
       "<table border=\"1\" class=\"dataframe\">\n",
       "  <thead>\n",
       "    <tr style=\"text-align: right;\">\n",
       "      <th></th>\n",
       "      <th>_id</th>\n",
       "      <th>date</th>\n",
       "      <th>user_id</th>\n",
       "      <th>username</th>\n",
       "      <th>screen_name</th>\n",
       "      <th>text</th>\n",
       "      <th>hashtags</th>\n",
       "      <th>reg</th>\n",
       "    </tr>\n",
       "  </thead>\n",
       "  <tbody>\n",
       "    <tr>\n",
       "      <th>35</th>\n",
       "      <td>6085dac22ab79c00399db2ab</td>\n",
       "      <td>2021-04-25 14:10:20</td>\n",
       "      <td>1301906563519721472</td>\n",
       "      <td>dudɑ ψ 📖: Mulherzinhas| six of crows</td>\n",
       "      <td>reggiesummer</td>\n",
       "      <td>rt @thefilmupdates: paul raci is the first nominee to hit the red carpet at the oscars  nominated for best supporting actor in sound of me…</td>\n",
       "      <td>[Oscars]</td>\n",
       "      <td>[paul raci]</td>\n",
       "    </tr>\n",
       "    <tr>\n",
       "      <th>52</th>\n",
       "      <td>6085dad62ab79c00399db2c9</td>\n",
       "      <td>2021-04-25 14:10:40</td>\n",
       "      <td>38705075</td>\n",
       "      <td>Michael Buckley 🌎💙</td>\n",
       "      <td>hello_buckers</td>\n",
       "      <td>rt @jenn0wow: idk what’s worse the fact that it’s an nft, the fact that chadwick boseman’s death is being commodified, or that this is in e…</td>\n",
       "      <td>[]</td>\n",
       "      <td>[chadwick boseman]</td>\n",
       "    </tr>\n",
       "    <tr>\n",
       "      <th>53</th>\n",
       "      <td>6085dadb2ab79c00399db2cd</td>\n",
       "      <td>2021-04-25 14:10:45</td>\n",
       "      <td>378787787</td>\n",
       "      <td>i want to bailey-ve 🛸</td>\n",
       "      <td>been_herde</td>\n",
       "      <td>rt @thefilmupdates: paul raci is the first nominee to hit the red carpet at the oscars  nominated for best supporting actor in sound of me…</td>\n",
       "      <td>[Oscars]</td>\n",
       "      <td>[paul raci]</td>\n",
       "    </tr>\n",
       "    <tr>\n",
       "      <th>56</th>\n",
       "      <td>6085dadf2ab79c00399db2d3</td>\n",
       "      <td>2021-04-25 14:10:49</td>\n",
       "      <td>1264611888161316864</td>\n",
       "      <td>💛SHAYNE💛 ATTITUDE ERA</td>\n",
       "      <td>PDSNPH</td>\n",
       "      <td>i will throw a chair at someone's head if she loses again i swear to god</td>\n",
       "      <td>[]</td>\n",
       "      <td>[]</td>\n",
       "    </tr>\n",
       "    <tr>\n",
       "      <th>84</th>\n",
       "      <td>6085db032ab79c00399db30c</td>\n",
       "      <td>2021-04-25 14:11:25</td>\n",
       "      <td>3764922995</td>\n",
       "      <td>Sof ♀🏴</td>\n",
       "      <td>softlyburns</td>\n",
       "      <td>rt @jenn0wow: idk what’s worse the fact that it’s an nft, the fact that chadwick boseman’s death is being commodified, or that this is in e…</td>\n",
       "      <td>[]</td>\n",
       "      <td>[chadwick boseman]</td>\n",
       "    </tr>\n",
       "    <tr>\n",
       "      <th>...</th>\n",
       "      <td>...</td>\n",
       "      <td>...</td>\n",
       "      <td>...</td>\n",
       "      <td>...</td>\n",
       "      <td>...</td>\n",
       "      <td>...</td>\n",
       "      <td>...</td>\n",
       "      <td>...</td>\n",
       "    </tr>\n",
       "    <tr>\n",
       "      <th>145484</th>\n",
       "      <td>{'$oid': '608631342ab79c003a6fefab'}</td>\n",
       "      <td>2021-04-25 20:19:10</td>\n",
       "      <td>1252809584214855680</td>\n",
       "      <td>B ^.^🐰</td>\n",
       "      <td>brooke12173</td>\n",
       "      <td>rt @variety: oscars: yuh-jung youn wins best supporting actress for minari</td>\n",
       "      <td>[Oscars, Minari]</td>\n",
       "      <td>[yuh-jung youn]</td>\n",
       "    </tr>\n",
       "    <tr>\n",
       "      <th>145487</th>\n",
       "      <td>{'$oid': '608631342ab79c003a6fefae'}</td>\n",
       "      <td>2021-04-25 20:19:10</td>\n",
       "      <td>250672954</td>\n",
       "      <td>Big Hero 6 🦉🐯</td>\n",
       "      <td>kitKAT_dc</td>\n",
       "      <td>rt @meridak: the oscars with a whole dc go-go moment. glenn close doing da butt. name-checking eu and backyard band? that’s mic-drop materi…</td>\n",
       "      <td>[]</td>\n",
       "      <td>[glenn close]</td>\n",
       "    </tr>\n",
       "    <tr>\n",
       "      <th>145502</th>\n",
       "      <td>{'$oid': '608631342ab79c003a6fefbb'}</td>\n",
       "      <td>2021-04-25 20:19:11</td>\n",
       "      <td>272209723</td>\n",
       "      <td>Moi🇯🇲</td>\n",
       "      <td>Unusual_Moi</td>\n",
       "      <td>rt @crystalejandro: the way black people run away when something is funny&amp;gt;&amp;gt;&amp;gt;&amp;gt;</td>\n",
       "      <td>[]</td>\n",
       "      <td>[]</td>\n",
       "    </tr>\n",
       "    <tr>\n",
       "      <th>145522</th>\n",
       "      <td>{'$oid': '608631362ab79c003a6fefdc'}</td>\n",
       "      <td>2021-04-25 20:19:12</td>\n",
       "      <td>253349349</td>\n",
       "      <td>👩🏽‍💻</td>\n",
       "      <td>Ohh_Daisyy</td>\n",
       "      <td>rt @crystalejandro: the way black people run away when something is funny&amp;gt;&amp;gt;&amp;gt;&amp;gt;</td>\n",
       "      <td>[]</td>\n",
       "      <td>[]</td>\n",
       "    </tr>\n",
       "    <tr>\n",
       "      <th>145524</th>\n",
       "      <td>{'$oid': '608631362ab79c003a6fefd7'}</td>\n",
       "      <td>2021-04-25 20:19:12</td>\n",
       "      <td>924980395636023296</td>\n",
       "      <td>Shivam Goyal🇮🇳</td>\n",
       "      <td>imshivmgoyal</td>\n",
       "      <td>rt @ndtv: oscars frances mcdormand wins best actress for nomadland  list of winners:</td>\n",
       "      <td>[Oscars, Nomadland]</td>\n",
       "      <td>[frances mcdormand]</td>\n",
       "    </tr>\n",
       "  </tbody>\n",
       "</table>\n",
       "<p>26348 rows × 8 columns</p>\n",
       "</div>"
      ],
      "text/plain": [
       "                                         _id                date  \\\n",
       "35                  6085dac22ab79c00399db2ab 2021-04-25 14:10:20   \n",
       "52                  6085dad62ab79c00399db2c9 2021-04-25 14:10:40   \n",
       "53                  6085dadb2ab79c00399db2cd 2021-04-25 14:10:45   \n",
       "56                  6085dadf2ab79c00399db2d3 2021-04-25 14:10:49   \n",
       "84                  6085db032ab79c00399db30c 2021-04-25 14:11:25   \n",
       "...                                      ...                 ...   \n",
       "145484  {'$oid': '608631342ab79c003a6fefab'} 2021-04-25 20:19:10   \n",
       "145487  {'$oid': '608631342ab79c003a6fefae'} 2021-04-25 20:19:10   \n",
       "145502  {'$oid': '608631342ab79c003a6fefbb'} 2021-04-25 20:19:11   \n",
       "145522  {'$oid': '608631362ab79c003a6fefdc'} 2021-04-25 20:19:12   \n",
       "145524  {'$oid': '608631362ab79c003a6fefd7'} 2021-04-25 20:19:12   \n",
       "\n",
       "                    user_id                              username  \\\n",
       "35      1301906563519721472  dudɑ ψ 📖: Mulherzinhas| six of crows   \n",
       "52                 38705075                    Michael Buckley 🌎💙   \n",
       "53                378787787                 i want to bailey-ve 🛸   \n",
       "56      1264611888161316864                 💛SHAYNE💛 ATTITUDE ERA   \n",
       "84               3764922995                                Sof ♀🏴   \n",
       "...                     ...                                   ...   \n",
       "145484  1252809584214855680                                B ^.^🐰   \n",
       "145487            250672954                         Big Hero 6 🦉🐯   \n",
       "145502            272209723                                 Moi🇯🇲   \n",
       "145522            253349349                                  👩🏽‍💻   \n",
       "145524   924980395636023296                        Shivam Goyal🇮🇳   \n",
       "\n",
       "          screen_name  \\\n",
       "35       reggiesummer   \n",
       "52      hello_buckers   \n",
       "53         been_herde   \n",
       "56             PDSNPH   \n",
       "84        softlyburns   \n",
       "...               ...   \n",
       "145484    brooke12173   \n",
       "145487      kitKAT_dc   \n",
       "145502    Unusual_Moi   \n",
       "145522     Ohh_Daisyy   \n",
       "145524   imshivmgoyal   \n",
       "\n",
       "                                                                                                                                                text  \\\n",
       "35       rt @thefilmupdates: paul raci is the first nominee to hit the red carpet at the oscars  nominated for best supporting actor in sound of me…   \n",
       "52      rt @jenn0wow: idk what’s worse the fact that it’s an nft, the fact that chadwick boseman’s death is being commodified, or that this is in e…   \n",
       "53       rt @thefilmupdates: paul raci is the first nominee to hit the red carpet at the oscars  nominated for best supporting actor in sound of me…   \n",
       "56                                                                          i will throw a chair at someone's head if she loses again i swear to god   \n",
       "84      rt @jenn0wow: idk what’s worse the fact that it’s an nft, the fact that chadwick boseman’s death is being commodified, or that this is in e…   \n",
       "...                                                                                                                                              ...   \n",
       "145484                                                                  rt @variety: oscars: yuh-jung youn wins best supporting actress for minari     \n",
       "145487  rt @meridak: the oscars with a whole dc go-go moment. glenn close doing da butt. name-checking eu and backyard band? that’s mic-drop materi…   \n",
       "145502                                                    rt @crystalejandro: the way black people run away when something is funny&gt;&gt;&gt;&gt;    \n",
       "145522                                                     rt @crystalejandro: the way black people run away when something is funny&gt;&gt;&gt;&gt;   \n",
       "145524                                                        rt @ndtv: oscars frances mcdormand wins best actress for nomadland  list of winners:     \n",
       "\n",
       "                   hashtags                  reg  \n",
       "35                 [Oscars]          [paul raci]  \n",
       "52                       []   [chadwick boseman]  \n",
       "53                 [Oscars]          [paul raci]  \n",
       "56                       []                   []  \n",
       "84                       []   [chadwick boseman]  \n",
       "...                     ...                  ...  \n",
       "145484     [Oscars, Minari]      [yuh-jung youn]  \n",
       "145487                   []        [glenn close]  \n",
       "145502                   []                   []  \n",
       "145522                   []                   []  \n",
       "145524  [Oscars, Nomadland]  [frances mcdormand]  \n",
       "\n",
       "[26348 rows x 8 columns]"
      ]
     },
     "execution_count": 45,
     "metadata": {},
     "output_type": "execute_result"
    }
   ],
   "source": [
    "complete_actors[complete_actors['username'].str.contains(\"[\"\n",
    "        u\"\\U0001F600-\\U0001F64F\"  # emoticons\n",
    "        u\"\\U0001F300-\\U0001F5FF\"  # symbols & pictographs\n",
    "        u\"\\U0001F680-\\U0001F6FF\"  # transport & map symbols\n",
    "        u\"\\U0001F1E0-\\U0001F1FF\"  # flags (iOS)\n",
    "                           \"]+\", regex=True)]"
   ]
  },
  {
   "cell_type": "markdown",
   "metadata": {
    "id": "bdvHzOL5EMal"
   },
   "source": [
    "## 6. Attraverso il file \"track_actors\" costruiamo un dizionario in cui ad ogni attore viene associato il numero totale di tweet in cui viene citato"
   ]
  },
  {
   "cell_type": "markdown",
   "metadata": {},
   "source": [
    "Costruzione del dizionario track"
   ]
  },
  {
   "cell_type": "code",
   "execution_count": 46,
   "metadata": {},
   "outputs": [],
   "source": [
    "track = track_actors['name'] +' '+ track_actors['surname']"
   ]
  },
  {
   "cell_type": "code",
   "execution_count": 47,
   "metadata": {},
   "outputs": [],
   "source": [
    "numeroTweetAttori = {}\n",
    "for name in set(track):\n",
    "    numeroTweetAttori[name] = 0"
   ]
  },
  {
   "cell_type": "code",
   "execution_count": 48,
   "metadata": {},
   "outputs": [],
   "source": [
    "for i in set(track):\n",
    "    somma = tweet_per_actors['reg'].str.contains(i, case=False).sum()\n",
    "    numeroTweetAttori[i] = somma"
   ]
  },
  {
   "cell_type": "markdown",
   "metadata": {},
   "source": [
    "## 6.1 Trasformiamo il dizionario in un dataframe che definiamo \"nTweetActors\" in cui ad ogni attore/attrice è associato il numero totale di tweet in cui viene menzionato/a"
   ]
  },
  {
   "cell_type": "code",
   "execution_count": 49,
   "metadata": {},
   "outputs": [
    {
     "data": {
      "text/html": [
       "<div>\n",
       "<style scoped>\n",
       "    .dataframe tbody tr th:only-of-type {\n",
       "        vertical-align: middle;\n",
       "    }\n",
       "\n",
       "    .dataframe tbody tr th {\n",
       "        vertical-align: top;\n",
       "    }\n",
       "\n",
       "    .dataframe thead th {\n",
       "        text-align: right;\n",
       "    }\n",
       "</style>\n",
       "<table border=\"1\" class=\"dataframe\">\n",
       "  <thead>\n",
       "    <tr style=\"text-align: right;\">\n",
       "      <th></th>\n",
       "      <th>Actors</th>\n",
       "      <th>nTweet</th>\n",
       "    </tr>\n",
       "  </thead>\n",
       "  <tbody>\n",
       "    <tr>\n",
       "      <th>19</th>\n",
       "      <td>amanda seyfried</td>\n",
       "      <td>789</td>\n",
       "    </tr>\n",
       "    <tr>\n",
       "      <th>17</th>\n",
       "      <td>andra day</td>\n",
       "      <td>2478</td>\n",
       "    </tr>\n",
       "    <tr>\n",
       "      <th>12</th>\n",
       "      <td>anthony hopkins</td>\n",
       "      <td>1828</td>\n",
       "    </tr>\n",
       "    <tr>\n",
       "      <th>11</th>\n",
       "      <td>carey mulligan</td>\n",
       "      <td>2329</td>\n",
       "    </tr>\n",
       "    <tr>\n",
       "      <th>18</th>\n",
       "      <td>chadwick boseman</td>\n",
       "      <td>4230</td>\n",
       "    </tr>\n",
       "    <tr>\n",
       "      <th>7</th>\n",
       "      <td>daniel kaluuya</td>\n",
       "      <td>33795</td>\n",
       "    </tr>\n",
       "    <tr>\n",
       "      <th>0</th>\n",
       "      <td>frances mcdormand</td>\n",
       "      <td>5255</td>\n",
       "    </tr>\n",
       "    <tr>\n",
       "      <th>16</th>\n",
       "      <td>gary oldman</td>\n",
       "      <td>185</td>\n",
       "    </tr>\n",
       "    <tr>\n",
       "      <th>6</th>\n",
       "      <td>glenn close</td>\n",
       "      <td>21705</td>\n",
       "    </tr>\n",
       "    <tr>\n",
       "      <th>10</th>\n",
       "      <td>lakeith stanfield</td>\n",
       "      <td>4181</td>\n",
       "    </tr>\n",
       "    <tr>\n",
       "      <th>4</th>\n",
       "      <td>leslie odom</td>\n",
       "      <td>1325</td>\n",
       "    </tr>\n",
       "    <tr>\n",
       "      <th>8</th>\n",
       "      <td>maria bakalova</td>\n",
       "      <td>472</td>\n",
       "    </tr>\n",
       "    <tr>\n",
       "      <th>1</th>\n",
       "      <td>olivia colman</td>\n",
       "      <td>1298</td>\n",
       "    </tr>\n",
       "    <tr>\n",
       "      <th>2</th>\n",
       "      <td>paul raci</td>\n",
       "      <td>785</td>\n",
       "    </tr>\n",
       "    <tr>\n",
       "      <th>5</th>\n",
       "      <td>riz ahmed</td>\n",
       "      <td>1006</td>\n",
       "    </tr>\n",
       "    <tr>\n",
       "      <th>3</th>\n",
       "      <td>sacha baron cohen</td>\n",
       "      <td>90</td>\n",
       "    </tr>\n",
       "    <tr>\n",
       "      <th>15</th>\n",
       "      <td>steven yeun</td>\n",
       "      <td>1604</td>\n",
       "    </tr>\n",
       "    <tr>\n",
       "      <th>13</th>\n",
       "      <td>vanessa kirby</td>\n",
       "      <td>179</td>\n",
       "    </tr>\n",
       "    <tr>\n",
       "      <th>9</th>\n",
       "      <td>viola davis</td>\n",
       "      <td>1464</td>\n",
       "    </tr>\n",
       "    <tr>\n",
       "      <th>14</th>\n",
       "      <td>yuh-jung youn</td>\n",
       "      <td>47027</td>\n",
       "    </tr>\n",
       "  </tbody>\n",
       "</table>\n",
       "</div>"
      ],
      "text/plain": [
       "               Actors  nTweet\n",
       "19    amanda seyfried     789\n",
       "17          andra day    2478\n",
       "12    anthony hopkins    1828\n",
       "11     carey mulligan    2329\n",
       "18   chadwick boseman    4230\n",
       "7      daniel kaluuya   33795\n",
       "0   frances mcdormand    5255\n",
       "16        gary oldman     185\n",
       "6         glenn close   21705\n",
       "10  lakeith stanfield    4181\n",
       "4         leslie odom    1325\n",
       "8      maria bakalova     472\n",
       "1       olivia colman    1298\n",
       "2           paul raci     785\n",
       "5           riz ahmed    1006\n",
       "3   sacha baron cohen      90\n",
       "15        steven yeun    1604\n",
       "13      vanessa kirby     179\n",
       "9         viola davis    1464\n",
       "14      yuh-jung youn   47027"
      ]
     },
     "execution_count": 49,
     "metadata": {},
     "output_type": "execute_result"
    }
   ],
   "source": [
    "nTweetActors = pd.DataFrame.from_dict(numeroTweetAttori, orient='index')\n",
    "nTweetActors.reset_index(inplace=True)\n",
    "nTweetActors.columns = ['Actors', 'nTweet']\n",
    "nTweetActors.sort_values(\"Actors\")"
   ]
  },
  {
   "cell_type": "code",
   "execution_count": 50,
   "metadata": {},
   "outputs": [],
   "source": [
    "nTweetActors.to_csv(r\"results/nTweetActors.csv\")"
   ]
  }
 ],
 "metadata": {
  "colab": {
   "authorship_tag": "ABX9TyNGMFzSsc6yL2MgjSLe/XRz",
   "collapsed_sections": [],
   "mount_file_id": "1BexmlgTWtRax83chp2sD0RnagZXiecy4",
   "name": "notebookProgetto.ipynb",
   "provenance": [],
   "toc_visible": true
  },
  "kernelspec": {
   "display_name": "Python 3",
   "language": "python",
   "name": "python3"
  },
  "language_info": {
   "codemirror_mode": {
    "name": "ipython",
    "version": 3
   },
   "file_extension": ".py",
   "mimetype": "text/x-python",
   "name": "python",
   "nbconvert_exporter": "python",
   "pygments_lexer": "ipython3",
   "version": "3.7.3"
  }
 },
 "nbformat": 4,
 "nbformat_minor": 1
}
